{
 "cells": [
  {
   "cell_type": "markdown",
   "id": "658abd47-9ebf-41ce-8b25-9372ad13da0f",
   "metadata": {},
   "source": [
    "Q.1"
   ]
  },
  {
   "cell_type": "code",
   "execution_count": 7,
   "id": "ed593a16-8dbe-4024-b142-a7849f6826d2",
   "metadata": {},
   "outputs": [
    {
     "name": "stdin",
     "output_type": "stream",
     "text": [
      "Please enter your percentage marks: 75\n"
     ]
    },
    {
     "name": "stdout",
     "output_type": "stream",
     "text": [
      "Your grade is C\n"
     ]
    }
   ],
   "source": [
    "nt(input(\"Please enter your percentage marks:\"))\n",
    "if Marks>90:\n",
    "    print(\"Your grade is A\")\n",
    "elif Marks>80 and Marks<=90:\n",
    "    print(\"Your grade is B\")\n",
    "elif Marks>60 and Marks<=80:\n",
    "    print(\"Your grade is C\")\n",
    "else:\n",
    "    print(\"Your grade is D\")"
   ]
  },
  {
   "cell_type": "markdown",
   "id": "4cdcd270-dca2-4174-8061-f79430c7dfa5",
   "metadata": {},
   "source": [
    "Q.2"
   ]
  },
  {
   "cell_type": "code",
   "execution_count": 10,
   "id": "e96afe18-9145-43f7-be4d-067332509ec6",
   "metadata": {},
   "outputs": [
    {
     "name": "stdin",
     "output_type": "stream",
     "text": [
      "Please enter the cost price of your bikes (in Rs.): 55000\n"
     ]
    },
    {
     "name": "stdout",
     "output_type": "stream",
     "text": [
      "You have to pay road tax @ 10%\n"
     ]
    }
   ],
   "source": [
    "Cost=int(input(\"Please enter the cost price of your bikes (in Rs.):\"))\n",
    "if Cost>100000:\n",
    "    print(\"You have to pay road tax @ 15%\")\n",
    "elif Cost>50000 and Cost<=100000:\n",
    "    print(\"You have to pay road tax @ 10%\")\n",
    "elif Cost<=50000:\n",
    "    print(\"You have to pay road tax @ 5%\")"
   ]
  },
  {
   "cell_type": "markdown",
   "id": "034cfc7c-607d-49b6-a21b-ffcb174becea",
   "metadata": {},
   "source": [
    "Q.3"
   ]
  },
  {
   "cell_type": "code",
   "execution_count": 14,
   "id": "e658f319-93f4-4c8a-9edd-1e703cd3682c",
   "metadata": {},
   "outputs": [
    {
     "name": "stdin",
     "output_type": "stream",
     "text": [
      "Please enter the name of the city: Agra\n"
     ]
    },
    {
     "name": "stdout",
     "output_type": "stream",
     "text": [
      "Monument of the city is: Taj Mahal\n"
     ]
    }
   ],
   "source": [
    "City=input(\"Please enter the name of the city:\")\n",
    "if City==\"Delhi\":\n",
    "    print(\"Monument of the city is: Red Fort\")\n",
    "elif City==\"Agra\":\n",
    "    print(\"Monument of the city is: Taj Mahal\")\n",
    "elif City==\"Jaipur\":\n",
    "    print(\"Monument of the city is: Jal Mahal\")"
   ]
  },
  {
   "cell_type": "markdown",
   "id": "eb4eef9b-d43a-41b5-a062-7cec59a5a104",
   "metadata": {},
   "source": [
    "Q.4"
   ]
  },
  {
   "cell_type": "code",
   "execution_count": 22,
   "id": "f778e815-4aae-4d14-b825-6ff8f8160b90",
   "metadata": {},
   "outputs": [
    {
     "name": "stdin",
     "output_type": "stream",
     "text": [
      "Enter the number: 330\n"
     ]
    },
    {
     "name": "stdout",
     "output_type": "stream",
     "text": [
      "4\n"
     ]
    }
   ],
   "source": [
    "count=0\n",
    "num=int(input(\"Enter the number:\"))\n",
    "while True:\n",
    "    num=num/3\n",
    "    count=count+1 \n",
    "    if num<=10:\n",
    "        break\n",
    "print(count)"
   ]
  },
  {
   "cell_type": "markdown",
   "id": "cf40f095-d46c-42b7-9f3c-21c56a230e5e",
   "metadata": {},
   "source": [
    "Q.5) "
   ]
  },
  {
   "cell_type": "code",
   "execution_count": 27,
   "id": "b31f68b9-1305-4ba9-bd4c-b7b2305ffe4d",
   "metadata": {},
   "outputs": [
    {
     "name": "stdout",
     "output_type": "stream",
     "text": [
      "1 2 3 4 "
     ]
    }
   ],
   "source": [
    "#A While loop in Python allows a part of the code to be executed repeatedly as long as a given condition is true. The While loop in Python is also called a pre-tested loop. It is typically used when the number of iterations is not known\n",
    "\n",
    "i=1\n",
    "while i<5:\n",
    "    print(i, end=\" \")\n",
    "    i += 1\n",
    "    \n",
    "#In Python, the test condition/expression will be checked first. If the condition holds True, the body of the loop will be entered.\n",
    "# After one iteration, it will check the condition again.\n",
    "# The process will continue until the condition becomes False.\n",
    "# The expression should be any valid Python expression that results in True or False. False is 0 while True is any non-zero value.\n",
    "# The while loop body begins with an indentation while the first un-indented line represents the end of the while loop."
   ]
  },
  {
   "cell_type": "markdown",
   "id": "5ad984d7-0057-4cf1-b3f0-a854a74bfbed",
   "metadata": {},
   "source": [
    "Q.6 Nested while loop to show 3 different patterns"
   ]
  },
  {
   "cell_type": "code",
   "execution_count": 1,
   "id": "b65179cc-dfde-48b0-8700-dd2b73893b41",
   "metadata": {},
   "outputs": [
    {
     "name": "stdout",
     "output_type": "stream",
     "text": [
      "*\n",
      "**\n",
      "***\n",
      "****\n",
      "*****\n"
     ]
    }
   ],
   "source": [
    "i = 1\n",
    "while i <= 5:\n",
    "    j = 1\n",
    "    while j <= i:\n",
    "        print(\"*\", end=\"\") # the print() function in each iteration of nested for loop to display the symbol or number of a pattern (like a star (asterisk *) or number).\n",
    "        j += 1\n",
    "    print()  # To Add a new line using the print() function after each iteration of the outer loop so that the pattern display appropriately\n",
    "    i += 1"
   ]
  },
  {
   "cell_type": "code",
   "execution_count": 31,
   "id": "32c4e5d2-09e5-4a7d-acd8-df84a63a68ff",
   "metadata": {},
   "outputs": [
    {
     "name": "stdout",
     "output_type": "stream",
     "text": [
      "1\n",
      "22\n",
      "333\n",
      "4444\n",
      "55555\n"
     ]
    }
   ],
   "source": [
    "i = 1\n",
    "while i <= 5:\n",
    "    j = 1\n",
    "    while j <= i:\n",
    "        print(i, end=\"\")\n",
    "        j += 1\n",
    "    print()\n",
    "    i += 1"
   ]
  },
  {
   "cell_type": "code",
   "execution_count": 1,
   "id": "4cb8e0fa-b065-4ad7-9853-65c29199b005",
   "metadata": {},
   "outputs": [
    {
     "name": "stdout",
     "output_type": "stream",
     "text": [
      "*****\n",
      "****\n",
      "***\n",
      "**\n",
      "*\n"
     ]
    }
   ],
   "source": [
    "size = 5\n",
    "row = 0\n",
    "while row < size:\n",
    "    col = size\n",
    "    while col > row:\n",
    "        print('*', end='')\n",
    "        col -= 1\n",
    "    print()\n",
    "    row += 1"
   ]
  },
  {
   "cell_type": "code",
   "execution_count": 3,
   "id": "e9bcd18f-6c8a-4822-a501-5bd9c3ac09db",
   "metadata": {},
   "outputs": [
    {
     "name": "stdin",
     "output_type": "stream",
     "text": [
      "Enter number of rows :  5\n"
     ]
    },
    {
     "name": "stdout",
     "output_type": "stream",
     "text": [
      "  1 \n",
      "  2   3 \n",
      "  4   5   6 \n",
      "  7   8   9  10 \n",
      " 11  12  13  14  15 \n"
     ]
    }
   ],
   "source": [
    "n = int(input('Enter number of rows : '))\n",
    " \n",
    "k = 1\n",
    "i = 1\n",
    "while i <= n :\n",
    "    j = 1\n",
    "    while j <= i:\n",
    "        print(\"{:3d}\".format(k), end = \" \")\n",
    "        j += 1\n",
    "        k += 1\n",
    "    print()\n",
    "    i += 1"
   ]
  },
  {
   "cell_type": "markdown",
   "id": "8355f45f-8d33-4a76-a2eb-4a939ac88780",
   "metadata": {},
   "source": [
    "Q.7 & 8) Reverse a while loop to display numbers from 10 to 1"
   ]
  },
  {
   "cell_type": "code",
   "execution_count": 2,
   "id": "5e5535b4-8b4b-463f-be4a-f103b080635c",
   "metadata": {},
   "outputs": [
    {
     "name": "stdout",
     "output_type": "stream",
     "text": [
      "10\n",
      "9\n",
      "8\n",
      "7\n",
      "6\n",
      "5\n",
      "4\n",
      "3\n",
      "2\n",
      "1\n"
     ]
    }
   ],
   "source": [
    "num=10\n",
    "while num>=1:\n",
    "    print(num)\n",
    "    num=num-1  "
   ]
  },
  {
   "cell_type": "code",
   "execution_count": null,
   "id": "2c3307eb-dfe3-4a78-bedf-56cbeac608df",
   "metadata": {},
   "outputs": [],
   "source": []
  }
 ],
 "metadata": {
  "kernelspec": {
   "display_name": "Python 3 (ipykernel)",
   "language": "python",
   "name": "python3"
  },
  "language_info": {
   "codemirror_mode": {
    "name": "ipython",
    "version": 3
   },
   "file_extension": ".py",
   "mimetype": "text/x-python",
   "name": "python",
   "nbconvert_exporter": "python",
   "pygments_lexer": "ipython3",
   "version": "3.10.8"
  }
 },
 "nbformat": 4,
 "nbformat_minor": 5
}
